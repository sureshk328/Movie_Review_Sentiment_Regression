{
 "cells": [
  {
   "cell_type": "code",
   "execution_count": 13,
   "id": "f8399959",
   "metadata": {},
   "outputs": [],
   "source": [
    "from tensorflow import keras\n",
    "import pandas as pd\n",
    "import tweepy\n",
    "import config\n",
    "import re\n",
    "from nltk.stem import WordNetLemmatizer\n",
    "from nltk.corpus import stopwords\n",
    "import pickle\n",
    "from keras.preprocessing.sequence import pad_sequences"
   ]
  },
  {
   "cell_type": "code",
   "execution_count": 15,
   "id": "fedb30f7",
   "metadata": {},
   "outputs": [],
   "source": [
    "stop_words = set(stopwords.words(\"english\")) \n",
    "lemmatizer = WordNetLemmatizer()\n",
    "\n",
    "\n",
    "def clean_text(text):\n",
    "    text = [lemmatizer.lemmatize(token) for token in text.split(\" \")]\n",
    "    text = [lemmatizer.lemmatize(token, \"v\") for token in text]\n",
    "    text = [word for word in text if not word in stop_words]\n",
    "    text = \" \".join(text)\n",
    "    return text\n",
    "\n",
    "\n",
    "tokenizer= pickle.load(open(\"tokenizer.pkl\", \"rb\"))\n",
    "maxlen = 130"
   ]
  },
  {
   "cell_type": "code",
   "execution_count": 2,
   "id": "a7b801c6",
   "metadata": {},
   "outputs": [
    {
     "name": "stdout",
     "output_type": "stream",
     "text": [
      "Enter your movie name: The Dark Knight\n",
      "Looking For Tweets:  #TheDarkKnight\n"
     ]
    }
   ],
   "source": [
    "movie = input(\"Enter your movie name: \")\n",
    "movie_hashtag='#'+movie.replace('/n','').replace(' ','')\n",
    "print(\"Looking For Tweets: \", movie_hashtag)"
   ]
  },
  {
   "cell_type": "code",
   "execution_count": 3,
   "id": "b6e3f28c",
   "metadata": {},
   "outputs": [
    {
     "name": "stdout",
     "output_type": "stream",
     "text": [
      "Response(data=[<Tweet id=1636289877095464961 text='Batman: Everybody Lies review — bat signal missing in action... - Gaming Trend https://t.co/QY8fssTNt8 #batman #warnerbros #dccomics #fumetti #comics #catwoman #robin #damianwayne #batmobile #paninicomics #joker #harleyquinn #brucewayne #thedarkknight #DCFanDome #BatmanDay #Sup…'>, <Tweet id=1636289875304390656 text='Batman: The Adventures Continue Season 3 #3 review - Batman-News https://t.co/PtBnexLy7t #batman #warnerbros #dccomics #fumetti #comics #catwoman #robin #damianwayne #batmobile #paninicomics #joker #harleyquinn #brucewayne #thedarkknight #DCFanDome #BatmanDay #Superman #wonderw…'>, <Tweet id=1635972784613359616 text='Batman Incorporated #6 review - Batman-News https://t.co/NCxATGJ8mG #batman #warnerbros #dccomics #fumetti #comics #catwoman #robin #damianwayne #batmobile #paninicomics #joker #harleyquinn #brucewayne #thedarkknight #DCFanDome #BatmanDay #Superman #wonderwoman #Aquaman #Flash …'>, <Tweet id=1635957631398342656 text='Batman: The Adventures Continue Season 3 #3 review - Batman-News https://t.co/PtBnexLy7t #batman #warnerbros #dccomics #fumetti #comics #catwoman #robin #damianwayne #batmobile #paninicomics #joker #harleyquinn #brucewayne #thedarkknight #DCFanDome #BatmanDay #Superman #wonderw…'>, <Tweet id=1635927465158758400 text=\"Review: Batman: The Doom That Came to Gotham (2023) - It's A Stampede! https://t.co/WcT5DBszTl #batman #warnerbros #dccomics #fumetti #comics #catwoman #robin #damianwayne #batmobile #paninicomics #joker #harleyquinn #brucewayne #thedarkknight #DCFanDome #BatmanDay #Superman #w…\">, <Tweet id=1635655733311152130 text=\"'Gotham Knights' and 'Superman &amp; Lois' give the CW a less-than-super one-two punch - CNN https://t.co/JINwKKmeKq #batman #warnerbros #dccomics #fumetti #comics #catwoman #robin #damianwayne #batmobile #paninicomics #joker #harleyquinn #brucewayne #thedarkknight #DCFanDome #Batm…\">, <Tweet id=1635655726801510407 text=\"Review: Batman: The Doom That Came to Gotham (2023) - It's A Stampede! https://t.co/WcT5DBszTl #batman #warnerbros #dccomics #fumetti #comics #catwoman #robin #damianwayne #batmobile #paninicomics #joker #harleyquinn #brucewayne #thedarkknight #DCFanDome #BatmanDay #Superman #w…\">, <Tweet id=1634568522838704128 text='Batman: The Doom That Came to Gotham (2023) Review - Voices From The Balcony https://t.co/QiEfD4BtEw #batman #warnerbros #dccomics #fumetti #comics #catwoman #robin #damianwayne #batmobile #paninicomics #joker #harleyquinn #brucewayne #thedarkknight #DCFanDome #BatmanDay #Super…'>, <Tweet id=1634130633491447810 text='Batman: The Doom That Came to Gotham (2023) Review - Voices From The Balcony https://t.co/5wRXRj5nk1 #batman #warnerbros #dccomics #fumetti #comics #catwoman #robin #damianwayne #batmobile #paninicomics #joker #harleyquinn #brucewayne #thedarkknight #DCFanDome #BatmanDay #Super…'>], includes={}, errors=[], meta={'newest_id': '1636289877095464961', 'oldest_id': '1634130633491447810', 'result_count': 9})\n"
     ]
    }
   ],
   "source": [
    "client=tweepy.Client(bearer_token=config.BEARER_TOKEN)\n",
    "query='review '+movie_hashtag+' -is:retweet lang:en -has:media'\n",
    "response=client.search_recent_tweets(query=query, max_results=10)\n",
    "print(response)"
   ]
  },
  {
   "cell_type": "code",
   "execution_count": 4,
   "id": "2ea0d9e0",
   "metadata": {},
   "outputs": [],
   "source": [
    "lst_movie_reviews_from_twtr=[]\n",
    "for tweet in response.data:\n",
    "    lst_movie_reviews_from_twtr.append(tweet.text)"
   ]
  },
  {
   "cell_type": "code",
   "execution_count": 16,
   "id": "ac10aeff",
   "metadata": {},
   "outputs": [
    {
     "name": "stdout",
     "output_type": "stream",
     "text": [
      "prediction: [[0.0503996 ]\n",
      " [0.17345217]\n",
      " [0.2706344 ]\n",
      " [0.17345217]\n",
      " [0.7090525 ]\n",
      " [0.524767  ]\n",
      " [0.7090525 ]\n",
      " [0.61247104]\n",
      " [0.61247104]]\n"
     ]
    }
   ],
   "source": [
    "\n",
    "reconstructed_model = keras.models.load_model(\"sentiment-score-model\")\n",
    "\n",
    "\n",
    "data_test = {'review':lst_movie_reviews_from_twtr}\n",
    "df_test = pd.DataFrame(data=data_test)\n",
    "df_test.head()\n",
    "df_test[\"review\"]=df_test.review.apply(lambda x: clean_text(x))\n",
    "\n",
    "list_sentences_test = df_test[\"review\"]\n",
    "list_tokenized_test = tokenizer.texts_to_sequences(list_sentences_test)\n",
    "X_te = pad_sequences(list_tokenized_test, maxlen=maxlen)\n",
    "prediction = reconstructed_model.predict(X_te)\n",
    "print(\"prediction:\",prediction)"
   ]
  },
  {
   "cell_type": "code",
   "execution_count": 17,
   "id": "df6fa7d7",
   "metadata": {},
   "outputs": [
    {
     "data": {
      "text/html": [
       "<div>\n",
       "<style scoped>\n",
       "    .dataframe tbody tr th:only-of-type {\n",
       "        vertical-align: middle;\n",
       "    }\n",
       "\n",
       "    .dataframe tbody tr th {\n",
       "        vertical-align: top;\n",
       "    }\n",
       "\n",
       "    .dataframe thead th {\n",
       "        text-align: right;\n",
       "    }\n",
       "</style>\n",
       "<table border=\"1\" class=\"dataframe\">\n",
       "  <thead>\n",
       "    <tr style=\"text-align: right;\">\n",
       "      <th></th>\n",
       "      <th>review</th>\n",
       "      <th>Sentiment Score</th>\n",
       "    </tr>\n",
       "  </thead>\n",
       "  <tbody>\n",
       "    <tr>\n",
       "      <th>0</th>\n",
       "      <td>Batman: Everybody Lies review — bat signal mis...</td>\n",
       "      <td>0.050400</td>\n",
       "    </tr>\n",
       "    <tr>\n",
       "      <th>1</th>\n",
       "      <td>Batman: The Adventures Continue Season 3 #3 re...</td>\n",
       "      <td>0.173452</td>\n",
       "    </tr>\n",
       "    <tr>\n",
       "      <th>2</th>\n",
       "      <td>Batman Incorporated #6 review - Batman-News ht...</td>\n",
       "      <td>0.270634</td>\n",
       "    </tr>\n",
       "    <tr>\n",
       "      <th>3</th>\n",
       "      <td>Batman: The Adventures Continue Season 3 #3 re...</td>\n",
       "      <td>0.173452</td>\n",
       "    </tr>\n",
       "    <tr>\n",
       "      <th>4</th>\n",
       "      <td>Review: Batman: The Doom That Came Gotham (202...</td>\n",
       "      <td>0.709053</td>\n",
       "    </tr>\n",
       "    <tr>\n",
       "      <th>5</th>\n",
       "      <td>'Gotham Knights' 'Superman &amp;amp; Lois' give CW...</td>\n",
       "      <td>0.524767</td>\n",
       "    </tr>\n",
       "    <tr>\n",
       "      <th>6</th>\n",
       "      <td>Review: Batman: The Doom That Came Gotham (202...</td>\n",
       "      <td>0.709053</td>\n",
       "    </tr>\n",
       "    <tr>\n",
       "      <th>7</th>\n",
       "      <td>Batman: The Doom That Came Gotham (2023) Revie...</td>\n",
       "      <td>0.612471</td>\n",
       "    </tr>\n",
       "    <tr>\n",
       "      <th>8</th>\n",
       "      <td>Batman: The Doom That Came Gotham (2023) Revie...</td>\n",
       "      <td>0.612471</td>\n",
       "    </tr>\n",
       "  </tbody>\n",
       "</table>\n",
       "</div>"
      ],
      "text/plain": [
       "                                              review  Sentiment Score\n",
       "0  Batman: Everybody Lies review — bat signal mis...         0.050400\n",
       "1  Batman: The Adventures Continue Season 3 #3 re...         0.173452\n",
       "2  Batman Incorporated #6 review - Batman-News ht...         0.270634\n",
       "3  Batman: The Adventures Continue Season 3 #3 re...         0.173452\n",
       "4  Review: Batman: The Doom That Came Gotham (202...         0.709053\n",
       "5  'Gotham Knights' 'Superman &amp; Lois' give CW...         0.524767\n",
       "6  Review: Batman: The Doom That Came Gotham (202...         0.709053\n",
       "7  Batman: The Doom That Came Gotham (2023) Revie...         0.612471\n",
       "8  Batman: The Doom That Came Gotham (2023) Revie...         0.612471"
      ]
     },
     "execution_count": 17,
     "metadata": {},
     "output_type": "execute_result"
    }
   ],
   "source": [
    "df_test['Sentiment Score']=prediction\n",
    "df_test"
   ]
  },
  {
   "cell_type": "code",
   "execution_count": 18,
   "id": "d27bf5eb",
   "metadata": {},
   "outputs": [
    {
     "name": "stdout",
     "output_type": "stream",
     "text": [
      "Maybe Watch Average Review Score: 42.61947274208069 %\n"
     ]
    }
   ],
   "source": [
    "p_mean=prediction.mean()\n",
    "if p_mean>=0.6:\n",
    "    print('Must Watch','Average Review Score:',p_mean*100,'%')\n",
    "if p_mean>0.3 and p_mean<0.6:\n",
    "    print('Maybe Watch','Average Review Score:',p_mean*100,'%')\n",
    "if p_mean<=0.3:\n",
    "    print('Not Worth It','Average Review Score:',p_mean*100,'%')"
   ]
  },
  {
   "cell_type": "code",
   "execution_count": 26,
   "id": "91c56a39",
   "metadata": {},
   "outputs": [
    {
     "name": "stdout",
     "output_type": "stream",
     "text": [
      "pandas== 1.3.4\n",
      "tweepy== 4.8.0\n",
      "keras== 2.8.0\n",
      "nltk== 3.6.5\n",
      "tensorflow== 3.6.5\n",
      "re== 2.2.1\n"
     ]
    }
   ],
   "source": [
    "print('pandas==',pd.__version__)\n",
    "print('tweepy==',tweepy.__version__)\n",
    "print('keras==',keras.__version__)\n",
    "print('nltk==',nltk.__version__)\n",
    "##print('pickle==',pickle.__version__)\n",
    "print('tensorflow==',nltk.__version__)\n",
    "print('re==',re.__version__)"
   ]
  },
  {
   "cell_type": "code",
   "execution_count": 28,
   "id": "42fca5ba",
   "metadata": {},
   "outputs": [
    {
     "name": "stderr",
     "output_type": "stream",
     "text": [
      "WARNING: Ignoring invalid distribution -orch (c:\\anaconda\\lib\\site-packages)\n",
      "WARNING: Package(s) not found: pickle\n"
     ]
    }
   ],
   "source": [
    "!python -m pip show pickle"
   ]
  },
  {
   "cell_type": "code",
   "execution_count": 22,
   "id": "88b570db",
   "metadata": {},
   "outputs": [
    {
     "name": "stdout",
     "output_type": "stream",
     "text": [
      "4.8.0\n"
     ]
    }
   ],
   "source": []
  },
  {
   "cell_type": "code",
   "execution_count": 23,
   "id": "ee03a944",
   "metadata": {},
   "outputs": [],
   "source": [
    "import re\n",
    "from nltk.stem import WordNetLemmatizer\n",
    "from nltk.corpus import stopwords\n",
    "import pickle\n",
    "from keras.preprocessing.sequence import pad_sequences\n",
    "import nltk\n",
    "import tensorflow"
   ]
  },
  {
   "cell_type": "code",
   "execution_count": null,
   "id": "38034111",
   "metadata": {},
   "outputs": [],
   "source": []
  }
 ],
 "metadata": {
  "kernelspec": {
   "display_name": "Python 3 (ipykernel)",
   "language": "python",
   "name": "python3"
  },
  "language_info": {
   "codemirror_mode": {
    "name": "ipython",
    "version": 3
   },
   "file_extension": ".py",
   "mimetype": "text/x-python",
   "name": "python",
   "nbconvert_exporter": "python",
   "pygments_lexer": "ipython3",
   "version": "3.9.7"
  }
 },
 "nbformat": 4,
 "nbformat_minor": 5
}
