{
 "cells": [
  {
   "cell_type": "code",
   "execution_count": 19,
   "id": "9f459daa",
   "metadata": {},
   "outputs": [],
   "source": [
    "import pandas as pd\n",
    "from unidecode import unidecode\n",
    "import matplotlib.pyplot as plt\n",
    "import matplotlib\n",
    "import pickle"
   ]
  },
  {
   "cell_type": "code",
   "execution_count": 2,
   "id": "e325ee52",
   "metadata": {},
   "outputs": [
    {
     "data": {
      "text/html": [
       "<div>\n",
       "<style scoped>\n",
       "    .dataframe tbody tr th:only-of-type {\n",
       "        vertical-align: middle;\n",
       "    }\n",
       "\n",
       "    .dataframe tbody tr th {\n",
       "        vertical-align: top;\n",
       "    }\n",
       "\n",
       "    .dataframe thead th {\n",
       "        text-align: right;\n",
       "    }\n",
       "</style>\n",
       "<table border=\"1\" class=\"dataframe\">\n",
       "  <thead>\n",
       "    <tr style=\"text-align: right;\">\n",
       "      <th></th>\n",
       "      <th>review</th>\n",
       "      <th>sentiment</th>\n",
       "    </tr>\n",
       "  </thead>\n",
       "  <tbody>\n",
       "    <tr>\n",
       "      <th>0</th>\n",
       "      <td>One of the other reviewers has mentioned that ...</td>\n",
       "      <td>positive</td>\n",
       "    </tr>\n",
       "    <tr>\n",
       "      <th>1</th>\n",
       "      <td>A wonderful little production. &lt;br /&gt;&lt;br /&gt;The...</td>\n",
       "      <td>positive</td>\n",
       "    </tr>\n",
       "    <tr>\n",
       "      <th>2</th>\n",
       "      <td>I thought this was a wonderful way to spend ti...</td>\n",
       "      <td>positive</td>\n",
       "    </tr>\n",
       "    <tr>\n",
       "      <th>3</th>\n",
       "      <td>Basically there's a family where a little boy ...</td>\n",
       "      <td>negative</td>\n",
       "    </tr>\n",
       "    <tr>\n",
       "      <th>4</th>\n",
       "      <td>Petter Mattei's \"Love in the Time of Money\" is...</td>\n",
       "      <td>positive</td>\n",
       "    </tr>\n",
       "  </tbody>\n",
       "</table>\n",
       "</div>"
      ],
      "text/plain": [
       "                                              review sentiment\n",
       "0  One of the other reviewers has mentioned that ...  positive\n",
       "1  A wonderful little production. <br /><br />The...  positive\n",
       "2  I thought this was a wonderful way to spend ti...  positive\n",
       "3  Basically there's a family where a little boy ...  negative\n",
       "4  Petter Mattei's \"Love in the Time of Money\" is...  positive"
      ]
     },
     "execution_count": 2,
     "metadata": {},
     "output_type": "execute_result"
    }
   ],
   "source": [
    "df_movie = pd.read_csv('IMDB-Dataset.csv')\n",
    "df_movie.head()"
   ]
  },
  {
   "cell_type": "code",
   "execution_count": 3,
   "id": "71e957aa",
   "metadata": {},
   "outputs": [
    {
     "name": "stdout",
     "output_type": "stream",
     "text": [
      "<class 'pandas.core.frame.DataFrame'>\n",
      "RangeIndex: 50000 entries, 0 to 49999\n",
      "Data columns (total 2 columns):\n",
      " #   Column     Non-Null Count  Dtype \n",
      "---  ------     --------------  ----- \n",
      " 0   review     50000 non-null  object\n",
      " 1   sentiment  50000 non-null  object\n",
      "dtypes: object(2)\n",
      "memory usage: 781.4+ KB\n"
     ]
    }
   ],
   "source": [
    "df_movie.info()"
   ]
  },
  {
   "cell_type": "code",
   "execution_count": 4,
   "id": "6a65aab1",
   "metadata": {},
   "outputs": [
    {
     "data": {
      "text/html": [
       "<div>\n",
       "<style scoped>\n",
       "    .dataframe tbody tr th:only-of-type {\n",
       "        vertical-align: middle;\n",
       "    }\n",
       "\n",
       "    .dataframe tbody tr th {\n",
       "        vertical-align: top;\n",
       "    }\n",
       "\n",
       "    .dataframe thead th {\n",
       "        text-align: right;\n",
       "    }\n",
       "</style>\n",
       "<table border=\"1\" class=\"dataframe\">\n",
       "  <thead>\n",
       "    <tr style=\"text-align: right;\">\n",
       "      <th></th>\n",
       "      <th>review</th>\n",
       "      <th>sentiment</th>\n",
       "    </tr>\n",
       "  </thead>\n",
       "  <tbody>\n",
       "    <tr>\n",
       "      <th>0</th>\n",
       "      <td>One of the other reviewers has mentioned that ...</td>\n",
       "      <td>1</td>\n",
       "    </tr>\n",
       "    <tr>\n",
       "      <th>1</th>\n",
       "      <td>A wonderful little production. &lt;br /&gt;&lt;br /&gt;The...</td>\n",
       "      <td>1</td>\n",
       "    </tr>\n",
       "    <tr>\n",
       "      <th>2</th>\n",
       "      <td>I thought this was a wonderful way to spend ti...</td>\n",
       "      <td>1</td>\n",
       "    </tr>\n",
       "    <tr>\n",
       "      <th>3</th>\n",
       "      <td>Basically there's a family where a little boy ...</td>\n",
       "      <td>0</td>\n",
       "    </tr>\n",
       "    <tr>\n",
       "      <th>4</th>\n",
       "      <td>Petter Mattei's \"Love in the Time of Money\" is...</td>\n",
       "      <td>1</td>\n",
       "    </tr>\n",
       "  </tbody>\n",
       "</table>\n",
       "</div>"
      ],
      "text/plain": [
       "                                              review  sentiment\n",
       "0  One of the other reviewers has mentioned that ...          1\n",
       "1  A wonderful little production. <br /><br />The...          1\n",
       "2  I thought this was a wonderful way to spend ti...          1\n",
       "3  Basically there's a family where a little boy ...          0\n",
       "4  Petter Mattei's \"Love in the Time of Money\" is...          1"
      ]
     },
     "execution_count": 4,
     "metadata": {},
     "output_type": "execute_result"
    }
   ],
   "source": [
    "df_movie['sentiment'] = df_movie['sentiment'].map({'positive': 1, 'negative': 0})\n",
    "df_movie.head()"
   ]
  },
  {
   "cell_type": "code",
   "execution_count": 5,
   "id": "bd43c768",
   "metadata": {},
   "outputs": [
    {
     "name": "stdout",
     "output_type": "stream",
     "text": [
      "                                                  review  sentiment\n",
      "0      One of the other reviewers has mentioned that ...          1\n",
      "1      A wonderful little production. <br /><br />The...          1\n",
      "2      I thought this was a wonderful way to spend ti...          1\n",
      "3      Basically there's a family where a little boy ...          0\n",
      "4      Petter Mattei's \"Love in the Time of Money\" is...          1\n",
      "...                                                  ...        ...\n",
      "49995  I thought this movie did a down right good job...          1\n",
      "49996  Bad plot, bad dialogue, bad acting, idiotic di...          0\n",
      "49997  I am a Catholic taught in parochial elementary...          0\n",
      "49998  I'm going to have to disagree with the previou...          0\n",
      "49999  No one expects the Star Trek movies to be high...          0\n",
      "\n",
      "[50000 rows x 2 columns]\n",
      "                                              review  sentiment\n",
      "0  one of the other reviewers has mentioned that ...          1\n",
      "1  a wonderful little production the filming tech...          1\n",
      "2  i thought this was a wonderful way to spend ti...          1\n",
      "3  basically there s a family where a little boy ...          0\n",
      "4  petter mattei s love in the time of money is a...          1\n",
      "5  probably my all time favorite movie a story of...          1\n",
      "6  i sure would like to see a resurrection of a u...          1\n",
      "7  this show was an amazing fresh innovative idea...          0\n",
      "8  encouraged by the positive comments about this...          0\n",
      "9  if you like original gut wrenching laughter yo...          1\n"
     ]
    }
   ],
   "source": [
    "#Data cleaning\n",
    "\n",
    "import re\n",
    "import html\n",
    "from bs4 import BeautifulSoup\n",
    "\n",
    "def lower(review):\n",
    "    return review.lower()\n",
    "\n",
    "def deletePunctuation(x):\n",
    "    return re.sub(r'[^\\w\\s]', ' ', x)\n",
    "\n",
    "def deleteSpaces(x):\n",
    "    return re.sub(r'\\s+', ' ', x)\n",
    "\n",
    "def unescape(x):\n",
    "    return html.unescape(x)\n",
    "\n",
    "def deleteHtmlTags(x):\n",
    "    return BeautifulSoup(x, \"lxml\").text\n",
    "\n",
    "def cleanData1(X):\n",
    "    X.review = X.review.apply(lower)\n",
    "    X.review = X.review.apply(deleteHtmlTags)\n",
    "    X.review = X.review.apply(unidecode)\n",
    "    X.review = X.review.apply(deletePunctuation)\n",
    "    X.review = X.review.apply(unescape)\n",
    "    X.review = X.review.apply(deleteSpaces)\n",
    "\n",
    "print(df_movie)\n",
    "cleanData1(df_movie)\n",
    "\n",
    "print(df_movie[:10])"
   ]
  },
  {
   "cell_type": "code",
   "execution_count": 6,
   "id": "e2bee399",
   "metadata": {},
   "outputs": [
    {
     "data": {
      "text/html": [
       "<div>\n",
       "<style scoped>\n",
       "    .dataframe tbody tr th:only-of-type {\n",
       "        vertical-align: middle;\n",
       "    }\n",
       "\n",
       "    .dataframe tbody tr th {\n",
       "        vertical-align: top;\n",
       "    }\n",
       "\n",
       "    .dataframe thead th {\n",
       "        text-align: right;\n",
       "    }\n",
       "</style>\n",
       "<table border=\"1\" class=\"dataframe\">\n",
       "  <thead>\n",
       "    <tr style=\"text-align: right;\">\n",
       "      <th></th>\n",
       "      <th>review</th>\n",
       "      <th>sentiment</th>\n",
       "      <th>Processed_Reviews</th>\n",
       "    </tr>\n",
       "  </thead>\n",
       "  <tbody>\n",
       "    <tr>\n",
       "      <th>0</th>\n",
       "      <td>one of the other reviewers has mentioned that ...</td>\n",
       "      <td>1</td>\n",
       "      <td>one reviewer ha mention watch 1 oz episode hoo...</td>\n",
       "    </tr>\n",
       "    <tr>\n",
       "      <th>1</th>\n",
       "      <td>a wonderful little production the filming tech...</td>\n",
       "      <td>1</td>\n",
       "      <td>wonderful little production film technique una...</td>\n",
       "    </tr>\n",
       "    <tr>\n",
       "      <th>2</th>\n",
       "      <td>i thought this was a wonderful way to spend ti...</td>\n",
       "      <td>1</td>\n",
       "      <td>think wa wonderful way spend time hot summer w...</td>\n",
       "    </tr>\n",
       "    <tr>\n",
       "      <th>3</th>\n",
       "      <td>basically there s a family where a little boy ...</td>\n",
       "      <td>0</td>\n",
       "      <td>basically family little boy jake think zombie ...</td>\n",
       "    </tr>\n",
       "    <tr>\n",
       "      <th>4</th>\n",
       "      <td>petter mattei s love in the time of money is a...</td>\n",
       "      <td>1</td>\n",
       "      <td>petter mattei love time money visually stun fi...</td>\n",
       "    </tr>\n",
       "  </tbody>\n",
       "</table>\n",
       "</div>"
      ],
      "text/plain": [
       "                                              review  sentiment  \\\n",
       "0  one of the other reviewers has mentioned that ...          1   \n",
       "1  a wonderful little production the filming tech...          1   \n",
       "2  i thought this was a wonderful way to spend ti...          1   \n",
       "3  basically there s a family where a little boy ...          0   \n",
       "4  petter mattei s love in the time of money is a...          1   \n",
       "\n",
       "                                   Processed_Reviews  \n",
       "0  one reviewer ha mention watch 1 oz episode hoo...  \n",
       "1  wonderful little production film technique una...  \n",
       "2  think wa wonderful way spend time hot summer w...  \n",
       "3  basically family little boy jake think zombie ...  \n",
       "4  petter mattei love time money visually stun fi...  "
      ]
     },
     "execution_count": 6,
     "metadata": {},
     "output_type": "execute_result"
    }
   ],
   "source": [
    "#Data Cleaning 2\n",
    "import re\n",
    "from nltk.stem import WordNetLemmatizer\n",
    "from nltk.corpus import stopwords\n",
    "\n",
    "stop_words = set(stopwords.words(\"english\")) \n",
    "lemmatizer = WordNetLemmatizer()\n",
    "\n",
    "\n",
    "def clean_text(text):\n",
    "    text = [lemmatizer.lemmatize(token) for token in text.split(\" \")]\n",
    "    text = [lemmatizer.lemmatize(token, \"v\") for token in text]\n",
    "    text = [word for word in text if not word in stop_words]\n",
    "    text = \" \".join(text)\n",
    "    return text\n",
    "\n",
    "df_movie['Processed_Reviews'] =df_movie.review.apply(lambda x: clean_text(x))\n",
    "df_movie.head(5)"
   ]
  },
  {
   "cell_type": "code",
   "execution_count": 7,
   "id": "52787c2a",
   "metadata": {},
   "outputs": [
    {
     "data": {
      "text/plain": [
       "123.17134"
      ]
     },
     "execution_count": 7,
     "metadata": {},
     "output_type": "execute_result"
    }
   ],
   "source": [
    "df_movie.Processed_Reviews.apply(lambda x: len(x.split(\" \"))).mean()"
   ]
  },
  {
   "cell_type": "code",
   "execution_count": 20,
   "id": "9a1a2ba8",
   "metadata": {},
   "outputs": [
    {
     "name": "stdout",
     "output_type": "stream",
     "text": [
      "Epoch 1/15\n",
      "350/350 [==============================] - 41s 113ms/step - loss: 0.3749 - accuracy: 0.8361 - val_loss: 0.2800 - val_accuracy: 0.8857\n",
      "Epoch 2/15\n",
      "350/350 [==============================] - 37s 105ms/step - loss: 0.2337 - accuracy: 0.9084 - val_loss: 0.2842 - val_accuracy: 0.8817\n",
      "Epoch 3/15\n",
      "350/350 [==============================] - 37s 106ms/step - loss: 0.1910 - accuracy: 0.9264 - val_loss: 0.2958 - val_accuracy: 0.8838\n",
      "Epoch 4/15\n",
      "350/350 [==============================] - 37s 107ms/step - loss: 0.1494 - accuracy: 0.9458 - val_loss: 0.3134 - val_accuracy: 0.8807\n",
      "Epoch 5/15\n",
      "350/350 [==============================] - 38s 107ms/step - loss: 0.1197 - accuracy: 0.9574 - val_loss: 0.3490 - val_accuracy: 0.8771\n",
      "Epoch 6/15\n",
      "350/350 [==============================] - 40s 113ms/step - loss: 0.0909 - accuracy: 0.9692 - val_loss: 0.3739 - val_accuracy: 0.8725\n",
      "Epoch 7/15\n",
      "350/350 [==============================] - 44s 126ms/step - loss: 0.0633 - accuracy: 0.9809 - val_loss: 0.4456 - val_accuracy: 0.8738\n",
      "Epoch 8/15\n",
      "350/350 [==============================] - 45s 129ms/step - loss: 0.0403 - accuracy: 0.9887 - val_loss: 0.5235 - val_accuracy: 0.8698\n",
      "Epoch 9/15\n",
      "350/350 [==============================] - 43s 122ms/step - loss: 0.0254 - accuracy: 0.9938 - val_loss: 0.6012 - val_accuracy: 0.8667\n",
      "Epoch 10/15\n",
      "350/350 [==============================] - 43s 122ms/step - loss: 0.0217 - accuracy: 0.9943 - val_loss: 0.6606 - val_accuracy: 0.8641\n",
      "Epoch 11/15\n",
      "350/350 [==============================] - 41s 119ms/step - loss: 0.0258 - accuracy: 0.9921 - val_loss: 0.6318 - val_accuracy: 0.8641\n",
      "Epoch 12/15\n",
      "350/350 [==============================] - 43s 122ms/step - loss: 0.0407 - accuracy: 0.9855 - val_loss: 0.6128 - val_accuracy: 0.8673\n",
      "Epoch 13/15\n",
      "350/350 [==============================] - 43s 123ms/step - loss: 0.0183 - accuracy: 0.9947 - val_loss: 0.7045 - val_accuracy: 0.8655\n",
      "Epoch 14/15\n",
      "350/350 [==============================] - 44s 126ms/step - loss: 0.0076 - accuracy: 0.9984 - val_loss: 0.7656 - val_accuracy: 0.8656\n",
      "Epoch 15/15\n",
      "350/350 [==============================] - 42s 120ms/step - loss: 0.0031 - accuracy: 0.9996 - val_loss: 0.8460 - val_accuracy: 0.8661\n"
     ]
    }
   ],
   "source": [
    "#Train And Save Model\n",
    "\n",
    "from keras.preprocessing.text import Tokenizer\n",
    "from keras.preprocessing.sequence import pad_sequences\n",
    "from keras.layers import Dense , Input , LSTM , Embedding, Dropout , Activation, GRU, Flatten\n",
    "from keras.layers import Bidirectional, GlobalMaxPool1D\n",
    "from keras.models import Model, Sequential\n",
    "from keras.layers import Convolution1D\n",
    "from keras import initializers, regularizers, constraints, optimizers, layers\n",
    "\n",
    "max_features = 6000\n",
    "tokenizer = Tokenizer(num_words=max_features)\n",
    "tokenizer.fit_on_texts(df_movie['Processed_Reviews'])\n",
    "list_tokenized_train = tokenizer.texts_to_sequences(df_movie['Processed_Reviews'])\n",
    "\n",
    "\n",
    "\n",
    "#Save Tokenizer in Pickle File\n",
    "pickle.dump(tokenizer, open(\"tokenizer.pkl\", \"wb\"))\n",
    "\n",
    "maxlen = 130\n",
    "X_t = pad_sequences(list_tokenized_train, maxlen=maxlen)\n",
    "y = df_movie['sentiment']\n",
    "\n",
    "embed_size = 128\n",
    "model = Sequential()\n",
    "model.add(Embedding(max_features, embed_size))\n",
    "model.add(Bidirectional(LSTM(32, return_sequences = True)))\n",
    "model.add(GlobalMaxPool1D())\n",
    "model.add(Dense(20, activation=\"relu\"))\n",
    "model.add(Dropout(0.05))\n",
    "model.add(Dense(1, activation=\"sigmoid\"))\n",
    "model.compile(loss='binary_crossentropy', optimizer='adam', metrics=['accuracy'])\n",
    "\n",
    "batch_size = 100\n",
    "epochs = 15\n",
    "fit_model=model.fit(X_t,y, batch_size=batch_size, epochs=epochs, validation_split=0.3)\n"
   ]
  },
  {
   "cell_type": "code",
   "execution_count": 9,
   "id": "2e8fd3a6",
   "metadata": {},
   "outputs": [
    {
     "name": "stderr",
     "output_type": "stream",
     "text": [
      "WARNING:absl:Found untraced functions such as lstm_cell_1_layer_call_fn, lstm_cell_1_layer_call_and_return_conditional_losses, lstm_cell_2_layer_call_fn, lstm_cell_2_layer_call_and_return_conditional_losses while saving (showing 4 of 4). These functions will not be directly callable after loading.\n"
     ]
    },
    {
     "name": "stdout",
     "output_type": "stream",
     "text": [
      "INFO:tensorflow:Assets written to: sentiment-score-model\\assets\n"
     ]
    },
    {
     "name": "stderr",
     "output_type": "stream",
     "text": [
      "INFO:tensorflow:Assets written to: sentiment-score-model\\assets\n",
      "WARNING:absl:<keras.layers.recurrent.LSTMCell object at 0x000001DAB7289DF0> has the same name 'LSTMCell' as a built-in Keras object. Consider renaming <class 'keras.layers.recurrent.LSTMCell'> to avoid naming conflicts when loading with `tf.keras.models.load_model`. If renaming is not possible, pass the object in the `custom_objects` parameter of the load function.\n",
      "WARNING:absl:<keras.layers.recurrent.LSTMCell object at 0x000001DAB746FA30> has the same name 'LSTMCell' as a built-in Keras object. Consider renaming <class 'keras.layers.recurrent.LSTMCell'> to avoid naming conflicts when loading with `tf.keras.models.load_model`. If renaming is not possible, pass the object in the `custom_objects` parameter of the load function.\n"
     ]
    },
    {
     "name": "stdout",
     "output_type": "stream",
     "text": [
      "Model: \"sequential\"\n",
      "_________________________________________________________________\n",
      " Layer (type)                Output Shape              Param #   \n",
      "=================================================================\n",
      " embedding (Embedding)       (None, None, 128)         768000    \n",
      "                                                                 \n",
      " bidirectional (Bidirectiona  (None, None, 64)         41216     \n",
      " l)                                                              \n",
      "                                                                 \n",
      " global_max_pooling1d (Globa  (None, 64)               0         \n",
      " lMaxPooling1D)                                                  \n",
      "                                                                 \n",
      " dense (Dense)               (None, 20)                1300      \n",
      "                                                                 \n",
      " dropout (Dropout)           (None, 20)                0         \n",
      "                                                                 \n",
      " dense_1 (Dense)             (None, 1)                 21        \n",
      "                                                                 \n",
      "=================================================================\n",
      "Total params: 810,537\n",
      "Trainable params: 810,537\n",
      "Non-trainable params: 0\n",
      "_________________________________________________________________\n"
     ]
    }
   ],
   "source": [
    "model.save('sentiment-score-model')\n",
    "model.summary()"
   ]
  },
  {
   "cell_type": "code",
   "execution_count": 10,
   "id": "3e5d7c16",
   "metadata": {},
   "outputs": [
    {
     "data": {
      "text/plain": [
       "<matplotlib.legend.Legend at 0x1daca333e20>"
      ]
     },
     "execution_count": 10,
     "metadata": {},
     "output_type": "execute_result"
    },
    {
     "data": {
      "image/png": "[encoded data removed]",
      "text/plain": [
       "<Figure size 864x576 with 1 Axes>"
      ]
     },
     "metadata": {},
     "output_type": "display_data"
    }
   ],
   "source": [
    "history_dict = fit_model.history\n",
    "history_dict.keys()\n",
    "acc = history_dict['accuracy']\n",
    "val_acc = history_dict['val_accuracy']\n",
    "loss = history_dict['loss']\n",
    "val_loss = history_dict['val_loss']\n",
    "\n",
    "epochs = range(1, len(acc) + 1)\n",
    "\n",
    "plt.style.use('dark_background')\n",
    "matplotlib.rcParams['figure.figsize']=[12.0,8.0]\n",
    "\n",
    "plt.plot(epochs, loss, 'bo', label='Training loss')\n",
    "\n",
    "plt.plot(epochs, val_loss, 'b', label='Validation loss')\n",
    "plt.title('Training and validation loss')\n",
    "plt.xlabel('Epochs')\n",
    "plt.ylabel('Loss')\n",
    "plt.legend()"
   ]
  },
  {
   "cell_type": "code",
   "execution_count": 11,
   "id": "47e1529d",
   "metadata": {},
   "outputs": [
    {
     "data": {
      "image/png": "[encoded data removed]",
      "text/plain": [
       "<Figure size 864x576 with 1 Axes>"
      ]
     },
     "metadata": {},
     "output_type": "display_data"
    }
   ],
   "source": [
    "#plt.clf()   # clear figure\n",
    "\n",
    "plt.plot(epochs, acc, 'bo', label='Training acc')\n",
    "plt.plot(epochs, val_acc, 'b', label='Validation acc')\n",
    "plt.title('Training and validation accuracy')\n",
    "plt.xlabel('Epochs')\n",
    "plt.ylabel('Accuracy')\n",
    "plt.legend()\n",
    "\n",
    "plt.show()"
   ]
  },
  {
   "cell_type": "code",
   "execution_count": 12,
   "id": "e4a60a41",
   "metadata": {},
   "outputs": [
    {
     "name": "stdout",
     "output_type": "stream",
     "text": [
      "Enter your movie name: TheDarkKnight\n",
      "Looking For Tweets:  #TheDarkKnight\n"
     ]
    }
   ],
   "source": [
    "movie = input(\"Enter your movie name: \")\n",
    "movie_hashtag='#'+movie.replace('/n','').replace(' ','')\n",
    "print(\"Looking For Tweets: \", movie_hashtag)"
   ]
  },
  {
   "cell_type": "code",
   "execution_count": 13,
   "id": "8df3f243",
   "metadata": {},
   "outputs": [],
   "source": [
    "#Getting Twitter Feed:\n",
    "import tweepy\n",
    "import config\n",
    "\n",
    "client=tweepy.Client(bearer_token=config.BEARER_TOKEN)\n",
    "query='review '+movie_hashtag+' -is:retweet lang:en -has:media'\n",
    "response=client.search_recent_tweets(query=query, max_results=10)\n",
    "#print(response)\n"
   ]
  },
  {
   "cell_type": "code",
   "execution_count": 14,
   "id": "c638e9c1",
   "metadata": {},
   "outputs": [],
   "source": [
    "lst_movie_reviews_from_twtr=[]\n",
    "for tweet in response.data:\n",
    "    lst_movie_reviews_from_twtr.append(tweet.text)"
   ]
  },
  {
   "cell_type": "code",
   "execution_count": 15,
   "id": "c26e1ab5",
   "metadata": {},
   "outputs": [
    {
     "data": {
      "text/plain": [
       "9"
      ]
     },
     "execution_count": 15,
     "metadata": {},
     "output_type": "execute_result"
    }
   ],
   "source": [
    "len(lst_movie_reviews_from_twtr)"
   ]
  },
  {
   "cell_type": "code",
   "execution_count": 16,
   "id": "cea5fc5b",
   "metadata": {},
   "outputs": [
    {
     "name": "stdout",
     "output_type": "stream",
     "text": [
      "prediction: [[0.0503996 ]\n",
      " [0.17345217]\n",
      " [0.2706344 ]\n",
      " [0.17345217]\n",
      " [0.7090525 ]\n",
      " [0.524767  ]\n",
      " [0.7090525 ]\n",
      " [0.61247104]\n",
      " [0.61247104]]\n"
     ]
    }
   ],
   "source": [
    "from tensorflow import keras\n",
    "reconstructed_model = keras.models.load_model(\"sentiment-score-model\")\n",
    "\n",
    "\n",
    "#ex_text_str = \"Another cash cow from Marvel. Never mind with a quality script. Let's just pump this crap out as fast as possible to cash in on the fame of Marvel. It's sick to know that Stan Lee sold out. This movie deserves negative stars. It sucks that bad.\"\n",
    "\n",
    "data_test = {'review':lst_movie_reviews_from_twtr}\n",
    "df_test = pd.DataFrame(data=data_test)\n",
    "df_test.head()\n",
    "df_test[\"review\"]=df_test.review.apply(lambda x: clean_text(x))\n",
    "\n",
    "list_sentences_test = df_test[\"review\"]\n",
    "list_tokenized_test = tokenizer.texts_to_sequences(list_sentences_test)\n",
    "X_te = pad_sequences(list_tokenized_test, maxlen=maxlen)\n",
    "prediction = reconstructed_model.predict(X_te)\n",
    "print(\"prediction:\",prediction)"
   ]
  },
  {
   "cell_type": "code",
   "execution_count": 17,
   "id": "11460143",
   "metadata": {},
   "outputs": [
    {
     "data": {
      "text/html": [
       "<div>\n",
       "<style scoped>\n",
       "    .dataframe tbody tr th:only-of-type {\n",
       "        vertical-align: middle;\n",
       "    }\n",
       "\n",
       "    .dataframe tbody tr th {\n",
       "        vertical-align: top;\n",
       "    }\n",
       "\n",
       "    .dataframe thead th {\n",
       "        text-align: right;\n",
       "    }\n",
       "</style>\n",
       "<table border=\"1\" class=\"dataframe\">\n",
       "  <thead>\n",
       "    <tr style=\"text-align: right;\">\n",
       "      <th></th>\n",
       "      <th>review</th>\n",
       "      <th>Sentiment Score</th>\n",
       "    </tr>\n",
       "  </thead>\n",
       "  <tbody>\n",
       "    <tr>\n",
       "      <th>0</th>\n",
       "      <td>Batman: Everybody Lies review — bat signal mis...</td>\n",
       "      <td>0.050400</td>\n",
       "    </tr>\n",
       "    <tr>\n",
       "      <th>1</th>\n",
       "      <td>Batman: The Adventures Continue Season 3 #3 re...</td>\n",
       "      <td>0.173452</td>\n",
       "    </tr>\n",
       "    <tr>\n",
       "      <th>2</th>\n",
       "      <td>Batman Incorporated #6 review - Batman-News ht...</td>\n",
       "      <td>0.270634</td>\n",
       "    </tr>\n",
       "    <tr>\n",
       "      <th>3</th>\n",
       "      <td>Batman: The Adventures Continue Season 3 #3 re...</td>\n",
       "      <td>0.173452</td>\n",
       "    </tr>\n",
       "    <tr>\n",
       "      <th>4</th>\n",
       "      <td>Review: Batman: The Doom That Came Gotham (202...</td>\n",
       "      <td>0.709053</td>\n",
       "    </tr>\n",
       "    <tr>\n",
       "      <th>5</th>\n",
       "      <td>'Gotham Knights' 'Superman &amp;amp; Lois' give CW...</td>\n",
       "      <td>0.524767</td>\n",
       "    </tr>\n",
       "    <tr>\n",
       "      <th>6</th>\n",
       "      <td>Review: Batman: The Doom That Came Gotham (202...</td>\n",
       "      <td>0.709053</td>\n",
       "    </tr>\n",
       "    <tr>\n",
       "      <th>7</th>\n",
       "      <td>Batman: The Doom That Came Gotham (2023) Revie...</td>\n",
       "      <td>0.612471</td>\n",
       "    </tr>\n",
       "    <tr>\n",
       "      <th>8</th>\n",
       "      <td>Batman: The Doom That Came Gotham (2023) Revie...</td>\n",
       "      <td>0.612471</td>\n",
       "    </tr>\n",
       "  </tbody>\n",
       "</table>\n",
       "</div>"
      ],
      "text/plain": [
       "                                              review  Sentiment Score\n",
       "0  Batman: Everybody Lies review — bat signal mis...         0.050400\n",
       "1  Batman: The Adventures Continue Season 3 #3 re...         0.173452\n",
       "2  Batman Incorporated #6 review - Batman-News ht...         0.270634\n",
       "3  Batman: The Adventures Continue Season 3 #3 re...         0.173452\n",
       "4  Review: Batman: The Doom That Came Gotham (202...         0.709053\n",
       "5  'Gotham Knights' 'Superman &amp; Lois' give CW...         0.524767\n",
       "6  Review: Batman: The Doom That Came Gotham (202...         0.709053\n",
       "7  Batman: The Doom That Came Gotham (2023) Revie...         0.612471\n",
       "8  Batman: The Doom That Came Gotham (2023) Revie...         0.612471"
      ]
     },
     "execution_count": 17,
     "metadata": {},
     "output_type": "execute_result"
    }
   ],
   "source": [
    "df_test['Sentiment Score']=prediction\n",
    "df_test"
   ]
  },
  {
   "cell_type": "code",
   "execution_count": 18,
   "id": "c754926d",
   "metadata": {},
   "outputs": [
    {
     "name": "stdout",
     "output_type": "stream",
     "text": [
      "Maybe Watch Average Review Score: 42.61947274208069 %\n"
     ]
    }
   ],
   "source": [
    "p_mean=prediction.mean()\n",
    "if p_mean>=0.6:\n",
    "    print('Must Watch','Average Review Score:',p_mean*100,'%')\n",
    "if p_mean>0.3 and p_mean<0.6:\n",
    "    print('Maybe Watch','Average Review Score:',p_mean*100,'%')\n",
    "if p_mean<=0.3:\n",
    "    print('Not Worth It','Average Review Score:',p_mean*100,'%')"
   ]
  }
 ],
 "metadata": {
  "kernelspec": {
   "display_name": "Python 3 (ipykernel)",
   "language": "python",
   "name": "python3"
  },
  "language_info": {
   "codemirror_mode": {
    "name": "ipython",
    "version": 3
   },
   "file_extension": ".py",
   "mimetype": "text/x-python",
   "name": "python",
   "nbconvert_exporter": "python",
   "pygments_lexer": "ipython3",
   "version": "3.9.7"
  }
 },
 "nbformat": 4,
 "nbformat_minor": 5
}
